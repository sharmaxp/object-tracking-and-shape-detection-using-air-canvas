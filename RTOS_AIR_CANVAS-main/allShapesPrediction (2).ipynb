{
  "cells": [
    {
      "cell_type": "markdown",
      "id": "G9FB0s46D31S",
      "metadata": {
        "id": "G9FB0s46D31S"
      },
      "source": [
        "# Transfer Learning"
      ]
    },
    {
      "cell_type": "code",
      "execution_count": null,
      "id": "klFjOdxr79fB",
      "metadata": {
        "id": "klFjOdxr79fB",
        "colab": {
          "base_uri": "https://localhost:8080/"
        },
        "outputId": "a2751a2d-bc4a-4adf-b851-3320e5b75480"
      },
      "outputs": [
        {
          "output_type": "stream",
          "name": "stdout",
          "text": [
            "The tensorboard extension is already loaded. To reload it, use:\n",
            "  %reload_ext tensorboard\n"
          ]
        }
      ],
      "source": [
        "import numpy as np\n",
        "import time\n",
        "\n",
        "import PIL.Image as Image\n",
        "import matplotlib.pylab as plt\n",
        "\n",
        "import tensorflow as tf\n",
        "import tensorflow_hub as hub\n",
        "\n",
        "import datetime\n",
        "\n",
        "%load_ext tensorboard"
      ]
    },
    {
      "cell_type": "code",
      "execution_count": null,
      "id": "0iqAun-agFMN",
      "metadata": {
        "id": "0iqAun-agFMN",
        "colab": {
          "base_uri": "https://localhost:8080/"
        },
        "outputId": "be5bc355-df9c-49fa-aa90-b61204a05bd0"
      },
      "outputs": [
        {
          "output_type": "stream",
          "name": "stdout",
          "text": [
            "Drive already mounted at /content/gdrive; to attempt to forcibly remount, call drive.mount(\"/content/gdrive\", force_remount=True).\n"
          ]
        }
      ],
      "source": [
        "from google.colab import drive\n",
        "drive.mount(\"/content/gdrive\")"
      ]
    },
    {
      "cell_type": "code",
      "execution_count": null,
      "id": "qG2lZU7ED7My",
      "metadata": {
        "id": "qG2lZU7ED7My"
      },
      "outputs": [],
      "source": [
        "imageDirectory = \"/content/gdrive/MyDrive/shape_dataset\""
      ]
    },
    {
      "cell_type": "code",
      "execution_count": null,
      "id": "G4WHWDhoEExh",
      "metadata": {
        "id": "G4WHWDhoEExh"
      },
      "outputs": [],
      "source": [
        "batchSize = 32\n",
        "imageSize = (224, 224)\n",
        "classNames = ['circle', 'line', 'square', 'triangle']"
      ]
    },
    {
      "cell_type": "code",
      "execution_count": null,
      "id": "2OL13KJmEF7h",
      "metadata": {
        "colab": {
          "base_uri": "https://localhost:8080/"
        },
        "id": "2OL13KJmEF7h",
        "outputId": "e0a676df-8f4e-4f7c-b5f4-8036c8a4e3d8"
      },
      "outputs": [
        {
          "output_type": "stream",
          "name": "stdout",
          "text": [
            "Found 6318 files belonging to 4 classes.\n",
            "Using 5055 files for training.\n"
          ]
        }
      ],
      "source": [
        "trainDataset = tf.keras.preprocessing.image_dataset_from_directory(\n",
        "    imageDirectory,\n",
        "    batch_size=batchSize,\n",
        "    image_size=imageSize,\n",
        "    class_names=classNames,\n",
        "    shuffle=True,\n",
        "    seed=42,\n",
        "    validation_split=0.2,  # Set the split for training and validation\n",
        "    subset='training'      # Choose 'training' or 'validation'\n",
        ")"
      ]
    },
    {
      "cell_type": "code",
      "execution_count": null,
      "id": "gQQjEvHfEK3D",
      "metadata": {
        "colab": {
          "base_uri": "https://localhost:8080/"
        },
        "id": "gQQjEvHfEK3D",
        "outputId": "bcfa7ba1-f755-4491-8095-62a7d6f7a8da"
      },
      "outputs": [
        {
          "output_type": "stream",
          "name": "stdout",
          "text": [
            "Found 6318 files belonging to 4 classes.\n",
            "Using 1263 files for validation.\n"
          ]
        }
      ],
      "source": [
        "validationDataset = tf.keras.preprocessing.image_dataset_from_directory(\n",
        "    imageDirectory,\n",
        "    batch_size=batchSize,\n",
        "    image_size=imageSize,\n",
        "    class_names=classNames,\n",
        "    shuffle=True,\n",
        "    seed=42,\n",
        "    validation_split=0.2,  # Set the split for training and validation\n",
        "    subset='validation'      # Choose 'training' or 'validation'\n",
        ")"
      ]
    },
    {
      "cell_type": "code",
      "execution_count": null,
      "id": "b6pT-bLCENVM",
      "metadata": {
        "colab": {
          "base_uri": "https://localhost:8080/"
        },
        "id": "b6pT-bLCENVM",
        "outputId": "efd97428-1246-43ab-a4f5-f6d37d6aa214"
      },
      "outputs": [
        {
          "output_type": "stream",
          "name": "stdout",
          "text": [
            "['circle' 'line' 'square' 'triangle']\n"
          ]
        }
      ],
      "source": [
        "class_names = np.array(trainDataset.class_names)\n",
        "print(class_names)"
      ]
    },
    {
      "cell_type": "code",
      "execution_count": null,
      "id": "iawhlBcmETYh",
      "metadata": {
        "id": "iawhlBcmETYh"
      },
      "outputs": [],
      "source": [
        "normalization_layer = tf.keras.layers.Rescaling(1./255)\n",
        "train_ds = trainDataset.map(lambda x, y: (normalization_layer(x), y)) # Where x—images, y—labels.\n",
        "val_ds = validationDataset.map(lambda x, y: (normalization_layer(x), y)) # Where x—images, y—labels."
      ]
    },
    {
      "cell_type": "code",
      "execution_count": null,
      "id": "bEnnmvqPEbB9",
      "metadata": {
        "id": "bEnnmvqPEbB9"
      },
      "outputs": [],
      "source": [
        "AUTOTUNE = tf.data.AUTOTUNE\n",
        "train_ds = train_ds.cache().prefetch(buffer_size=AUTOTUNE)\n",
        "val_ds = val_ds.cache().prefetch(buffer_size=AUTOTUNE)"
      ]
    },
    {
      "cell_type": "code",
      "execution_count": null,
      "id": "_gdcEKhfE0Jx",
      "metadata": {
        "id": "_gdcEKhfE0Jx"
      },
      "outputs": [],
      "source": [
        "mobilenet_v2 = \"https://tfhub.dev/google/tf2-preview/mobilenet_v2/feature_vector/4\"\n",
        "\n",
        "feature_extractor_model = mobilenet_v2"
      ]
    },
    {
      "cell_type": "code",
      "execution_count": null,
      "id": "W9y5Xz3WEdly",
      "metadata": {
        "id": "W9y5Xz3WEdly"
      },
      "outputs": [],
      "source": [
        "feature_extractor_layer = hub.KerasLayer(\n",
        "    feature_extractor_model,\n",
        "    input_shape=(224, 224, 3),\n",
        "    trainable=False)"
      ]
    },
    {
      "cell_type": "code",
      "execution_count": null,
      "id": "xcBjydhkEhDU",
      "metadata": {
        "colab": {
          "base_uri": "https://localhost:8080/"
        },
        "id": "xcBjydhkEhDU",
        "outputId": "bbe586eb-75d9-454e-adf6-6bd9acd55a7a"
      },
      "outputs": [
        {
          "output_type": "stream",
          "name": "stdout",
          "text": [
            "Model: \"sequential_1\"\n",
            "_________________________________________________________________\n",
            " Layer (type)                Output Shape              Param #   \n",
            "=================================================================\n",
            " keras_layer_1 (KerasLayer)  (None, 1280)              2257984   \n",
            "                                                                 \n",
            " dense_1 (Dense)             (None, 4)                 5124      \n",
            "                                                                 \n",
            "=================================================================\n",
            "Total params: 2,263,108\n",
            "Trainable params: 5,124\n",
            "Non-trainable params: 2,257,984\n",
            "_________________________________________________________________\n"
          ]
        }
      ],
      "source": [
        "# @title Default title text\n",
        "num_classes = len(class_names)\n",
        "\n",
        "model = tf.keras.Sequential([\n",
        "  feature_extractor_layer,\n",
        "  tf.keras.layers.Dense(4,activation=\"softmax\")\n",
        "])\n",
        "\n",
        "model.summary()"
      ]
    },
    {
      "cell_type": "code",
      "execution_count": null,
      "id": "uEcXwRA8E4eM",
      "metadata": {
        "id": "uEcXwRA8E4eM"
      },
      "outputs": [],
      "source": [
        "model.compile(\n",
        "  optimizer=tf.keras.optimizers.Adam(),\n",
        "  loss=tf.keras.losses.SparseCategoricalCrossentropy(from_logits=True),\n",
        "  metrics=['acc'])\n",
        " # Enable histogram computation for every epoch."
      ]
    },
    {
      "cell_type": "code",
      "execution_count": null,
      "id": "fn7oAIi5Fb6E",
      "metadata": {
        "colab": {
          "base_uri": "https://localhost:8080/"
        },
        "id": "fn7oAIi5Fb6E",
        "outputId": "ad6a643a-5c94-462e-f348-6a432d395bd8"
      },
      "outputs": [
        {
          "metadata": {
            "tags": null
          },
          "name": "stdout",
          "output_type": "stream",
          "text": [
            "Epoch 1/4\n"
          ]
        },
        {
          "metadata": {
            "tags": null
          },
          "name": "stderr",
          "output_type": "stream",
          "text": [
            "/usr/local/lib/python3.10/dist-packages/keras/backend.py:5612: UserWarning: \"`sparse_categorical_crossentropy` received `from_logits=True`, but the `output` argument was produced by a Softmax activation and thus does not represent logits. Was this intended?\n",
            "  output, from_logits = _get_logits(\n"
          ]
        },
        {
          "output_type": "stream",
          "name": "stdout",
          "text": [
            "158/158 [==============================] - 836s 5s/step - loss: 0.1950 - acc: 0.9395 - val_loss: 0.0524 - val_acc: 0.9897\n",
            "Epoch 2/4\n",
            "158/158 [==============================] - 291s 2s/step - loss: 0.0470 - acc: 0.9903 - val_loss: 0.0344 - val_acc: 0.9960\n",
            "Epoch 3/4\n",
            "158/158 [==============================] - 291s 2s/step - loss: 0.0323 - acc: 0.9913 - val_loss: 0.0288 - val_acc: 0.9960\n",
            "Epoch 4/4\n",
            "158/158 [==============================] - 289s 2s/step - loss: 0.0243 - acc: 0.9933 - val_loss: 0.0265 - val_acc: 0.9960\n"
          ]
        }
      ],
      "source": [
        "NUM_EPOCHS = 4\n",
        "\n",
        "history = model.fit(train_ds,\n",
        "                    validation_data=val_ds,\n",
        "                    epochs=NUM_EPOCHS,)"
      ]
    },
    {
      "cell_type": "code",
      "source": [
        "\n"
      ],
      "metadata": {
        "id": "wBLsGZan2-yD"
      },
      "id": "wBLsGZan2-yD",
      "execution_count": null,
      "outputs": []
    },
    {
      "cell_type": "code",
      "source": [
        "# from sklearn.metrics import classification_report\n",
        "\n",
        "# # Assuming you have already trained your model and got predictions\n",
        "# predictions = model.predict(test_ds)\n",
        "\n",
        "# # Convert predictions to binary labels (0 or 1, depending on your problem)\n",
        "# binary_predictions = (predictions > 0.5).astype(int)\n",
        "\n",
        "# # Assuming your ground truth labels are stored in test_labels\n",
        "# # You can extract them from the test dataset or any other source\n",
        "# # For binary classification, test_labels should be 0 or 1\n",
        "\n",
        "# # Calculate classification metrics\n",
        "# report = classification_report(test_labels, binary_predictions, target_names=class_names)\n",
        "\n",
        "# print(report)\n"
      ],
      "metadata": {
        "id": "zSekbFu_fekN"
      },
      "id": "zSekbFu_fekN",
      "execution_count": null,
      "outputs": []
    },
    {
      "cell_type": "code",
      "execution_count": null,
      "id": "783l9fDml11B",
      "metadata": {
        "id": "783l9fDml11B",
        "colab": {
          "base_uri": "https://localhost:8080/",
          "height": 718
        },
        "outputId": "33bc28d5-463b-4cf3-c244-8ea8c8e4edd4"
      },
      "outputs": [
        {
          "output_type": "display_data",
          "data": {
            "text/plain": [
              "<Figure size 800x800 with 2 Axes>"
            ],
            "image/png": "[encoded data removed]"
          },
          "metadata": {}
        }
      ],
      "source": [
        "acc = history.history['acc']\n",
        "val_acc = history.history['val_acc']\n",
        "\n",
        "loss = history.history['loss']\n",
        "val_loss = history.history['val_loss']\n",
        "\n",
        "plt.figure(figsize=(8, 8))\n",
        "plt.subplot(2, 1, 1)\n",
        "plt.plot(acc, label='Training Accuracy')\n",
        "plt.plot(val_acc, label='Validation Accuracy')\n",
        "plt.legend(loc='lower right')\n",
        "plt.ylabel('Accuracy')\n",
        "plt.ylim([min(plt.ylim()),1])\n",
        "plt.title('Training and Validation Accuracy')\n",
        "\n",
        "plt.subplot(2, 1, 2)\n",
        "plt.plot(loss, label='Training Loss')\n",
        "plt.plot(val_loss, label='Validation Loss')\n",
        "plt.legend(loc='upper right')\n",
        "plt.ylabel('Loss')\n",
        "plt.ylim([0,1.0])\n",
        "plt.title('Training and Validation Loss')\n",
        "plt.xlabel('epoch')\n",
        "plt.show()"
      ]
    },
    {
      "cell_type": "code",
      "source": [
        "# Extract metrics from history\n",
        "acc = history.history['acc']\n",
        "val_acc = history.history['val_acc']\n",
        "\n",
        "loss = history.history['loss']\n",
        "val_loss = history.history['val_loss']\n",
        "\n",
        "# Print values for training and validation accuracy and loss\n",
        "print(\"Training Accuracy: {:.4f}\".format(acc[-1]))\n",
        "print(\"Validation Accuracy: {:.4f}\".format(val_acc[-1]))\n",
        "print(\"Training Loss: {:.4f}\".format(loss[-1]))\n",
        "print(\"Validation Loss: {:.4f}\".format(val_loss[-1]))\n",
        "\n",
        "# plt.figure(figsize=(8, 8))\n",
        "# plt.subplot(2, 1, 1)\n",
        "# plt.plot(acc, label='Training Accuracy')\n",
        "# plt.plot(val_acc, label='Validation Accuracy')\n",
        "# plt.legend(loc='lower right')\n",
        "# plt.ylabel('Accuracy')\n",
        "# plt.ylim([min(plt.ylim()), 1])\n",
        "# plt.title('Training and Validation Accuracy')\n",
        "# plt.show()\n",
        "\n",
        "# plt.figure(figsize=(8, 8))\n",
        "# plt.subplot(2, 1, 2)\n",
        "# plt.plot(loss, label='Training Loss')\n",
        "# plt.plot(val_loss, label='Validation Loss')\n",
        "# plt.legend(loc='upper right')\n",
        "# plt.ylabel('Loss')\n",
        "# plt.ylim([0, 1.0])\n",
        "# plt.title('Training and Validation Loss')\n",
        "# plt.xlabel('Epoch')\n",
        "# plt.show()"
      ],
      "metadata": {
        "id": "zgQ_W3zIxcVB",
        "colab": {
          "base_uri": "https://localhost:8080/"
        },
        "outputId": "a4ad0f9e-94b1-4ddc-ffab-3a7514e9b4ab"
      },
      "id": "zgQ_W3zIxcVB",
      "execution_count": null,
      "outputs": [
        {
          "output_type": "stream",
          "name": "stdout",
          "text": [
            "Training Accuracy: 0.9933\n",
            "Validation Accuracy: 0.9960\n",
            "Training Loss: 0.0243\n",
            "Validation Loss: 0.0265\n"
          ]
        }
      ]
    },
    {
      "cell_type": "code",
      "source": [
        "model.save(\"/content/gdrive/MyDrive/classifier-output-usingtl.h5\")"
      ],
      "metadata": {
        "id": "mHRhygOxlvQR"
      },
      "id": "mHRhygOxlvQR",
      "execution_count": null,
      "outputs": []
    },
    {
      "cell_type": "code",
      "execution_count": null,
      "id": "cY6sZAqxFsyI",
      "metadata": {
        "id": "cY6sZAqxFsyI"
      },
      "outputs": [],
      "source": [
        "# # Make predictions on a new image\n",
        "# new_image = Image.open('/content/image_2023-08-03_13-43-41.png')\n",
        "# new_image = new_image.resize((224, 224))\n",
        "# new_image_array = np.array(new_image)\n",
        "# new_image_array = np.expand_dims(new_image_array, axis=0)\n",
        "# prediction = model.predict(new_image_array)\n",
        "# predicted_class = np.argmax(prediction)"
      ]
    },
    {
      "cell_type": "code",
      "source": [
        "\n",
        "# from tensorflow.keras.models import load_model\n",
        "\n",
        "# # Load the trained model\n",
        "# model = load_model('/content/gdrive/MyDrive/classifier-output-usingtl.h5')  # Replace with the actual path\n",
        "\n",
        "# # Directory containing the images\n",
        "# imageDirectory = \"/content/gdrive/MyDrive/shape_dataset\"\n",
        "\n",
        "# # List all image files in the directory\n",
        "# image_files = [f for f in os.listdir(imageDirectory) if f.endswith('.png')]\n",
        "\n",
        "# # Select 5 random images\n",
        "# random_image_files = random.sample(image_files, 5)\n",
        "\n",
        "# for image_file in random_image_files:\n",
        "#     image_path = os.path.join(imageDirectory, image_file)\n",
        "\n",
        "#     # Load and preprocess the image\n",
        "#     new_image = Image.open(image_path)\n",
        "#     new_image = new_image.resize((224, 224))\n",
        "#     new_image_array = np.array(new_image)\n",
        "#     new_image_array = np.expand_dims(new_image_array, axis=0)\n",
        "\n",
        "#     # Make prediction\n",
        "#     prediction = model.predict(new_image_array)\n",
        "#     predicted_class = np.argmax(prediction)\n",
        "\n",
        "#     print(f\"Image: {image_file}, Predicted Class: {predicted_class}\")\n"
      ],
      "metadata": {
        "id": "tDKqrSo3lpEZ",
        "colab": {
          "base_uri": "https://localhost:8080/",
          "height": 425
        },
        "outputId": "8eb8f39f-c8ea-4dd3-aec9-ca794c3d86e6"
      },
      "id": "tDKqrSo3lpEZ",
      "execution_count": null,
      "outputs": [
        {
          "output_type": "error",
          "ename": "ValueError",
          "evalue": "ignored",
          "traceback": [
            "\u001b[0;31m---------------------------------------------------------------------------\u001b[0m",
            "\u001b[0;31mValueError\u001b[0m                                Traceback (most recent call last)",
            "\u001b[0;32m<ipython-input-34-6950fd342082>\u001b[0m in \u001b[0;36m<cell line: 8>\u001b[0;34m()\u001b[0m\n\u001b[1;32m      6\u001b[0m \u001b[0;34m\u001b[0m\u001b[0m\n\u001b[1;32m      7\u001b[0m \u001b[0;31m# Load the trained model\u001b[0m\u001b[0;34m\u001b[0m\u001b[0;34m\u001b[0m\u001b[0m\n\u001b[0;32m----> 8\u001b[0;31m \u001b[0mmodel\u001b[0m \u001b[0;34m=\u001b[0m \u001b[0mload_model\u001b[0m\u001b[0;34m(\u001b[0m\u001b[0;34m'/content/gdrive/MyDrive/classifier-output-usingtl.h5'\u001b[0m\u001b[0;34m)\u001b[0m  \u001b[0;31m# Replace with the actual path\u001b[0m\u001b[0;34m\u001b[0m\u001b[0;34m\u001b[0m\u001b[0m\n\u001b[0m\u001b[1;32m      9\u001b[0m \u001b[0;34m\u001b[0m\u001b[0m\n\u001b[1;32m     10\u001b[0m \u001b[0;31m# Directory containing the images\u001b[0m\u001b[0;34m\u001b[0m\u001b[0;34m\u001b[0m\u001b[0m\n",
            "\u001b[0;32m/usr/local/lib/python3.10/dist-packages/keras/saving/saving_api.py\u001b[0m in \u001b[0;36mload_model\u001b[0;34m(filepath, custom_objects, compile, safe_mode, **kwargs)\u001b[0m\n\u001b[1;32m    210\u001b[0m \u001b[0;34m\u001b[0m\u001b[0m\n\u001b[1;32m    211\u001b[0m     \u001b[0;31m# Legacy case.\u001b[0m\u001b[0;34m\u001b[0m\u001b[0;34m\u001b[0m\u001b[0m\n\u001b[0;32m--> 212\u001b[0;31m     return legacy_sm_saving_lib.load_model(\n\u001b[0m\u001b[1;32m    213\u001b[0m         \u001b[0mfilepath\u001b[0m\u001b[0;34m,\u001b[0m \u001b[0mcustom_objects\u001b[0m\u001b[0;34m=\u001b[0m\u001b[0mcustom_objects\u001b[0m\u001b[0;34m,\u001b[0m \u001b[0mcompile\u001b[0m\u001b[0;34m=\u001b[0m\u001b[0mcompile\u001b[0m\u001b[0;34m,\u001b[0m \u001b[0;34m**\u001b[0m\u001b[0mkwargs\u001b[0m\u001b[0;34m\u001b[0m\u001b[0;34m\u001b[0m\u001b[0m\n\u001b[1;32m    214\u001b[0m     )\n",
            "\u001b[0;32m/usr/local/lib/python3.10/dist-packages/keras/utils/traceback_utils.py\u001b[0m in \u001b[0;36merror_handler\u001b[0;34m(*args, **kwargs)\u001b[0m\n\u001b[1;32m     68\u001b[0m             \u001b[0;31m# To get the full stack trace, call:\u001b[0m\u001b[0;34m\u001b[0m\u001b[0;34m\u001b[0m\u001b[0m\n\u001b[1;32m     69\u001b[0m             \u001b[0;31m# `tf.debugging.disable_traceback_filtering()`\u001b[0m\u001b[0;34m\u001b[0m\u001b[0;34m\u001b[0m\u001b[0m\n\u001b[0;32m---> 70\u001b[0;31m             \u001b[0;32mraise\u001b[0m \u001b[0me\u001b[0m\u001b[0;34m.\u001b[0m\u001b[0mwith_traceback\u001b[0m\u001b[0;34m(\u001b[0m\u001b[0mfiltered_tb\u001b[0m\u001b[0;34m)\u001b[0m \u001b[0;32mfrom\u001b[0m \u001b[0;32mNone\u001b[0m\u001b[0;34m\u001b[0m\u001b[0;34m\u001b[0m\u001b[0m\n\u001b[0m\u001b[1;32m     71\u001b[0m         \u001b[0;32mfinally\u001b[0m\u001b[0;34m:\u001b[0m\u001b[0;34m\u001b[0m\u001b[0;34m\u001b[0m\u001b[0m\n\u001b[1;32m     72\u001b[0m             \u001b[0;32mdel\u001b[0m \u001b[0mfiltered_tb\u001b[0m\u001b[0;34m\u001b[0m\u001b[0;34m\u001b[0m\u001b[0m\n",
            "\u001b[0;32m/usr/local/lib/python3.10/dist-packages/keras/saving/legacy/serialization.py\u001b[0m in \u001b[0;36mclass_and_config_for_serialized_keras_object\u001b[0;34m(config, module_objects, custom_objects, printable_module_name)\u001b[0m\n\u001b[1;32m    366\u001b[0m     )\n\u001b[1;32m    367\u001b[0m     \u001b[0;32mif\u001b[0m \u001b[0mcls\u001b[0m \u001b[0;32mis\u001b[0m \u001b[0;32mNone\u001b[0m\u001b[0;34m:\u001b[0m\u001b[0;34m\u001b[0m\u001b[0;34m\u001b[0m\u001b[0m\n\u001b[0;32m--> 368\u001b[0;31m         raise ValueError(\n\u001b[0m\u001b[1;32m    369\u001b[0m             \u001b[0;34mf\"Unknown {printable_module_name}: '{class_name}'. \"\u001b[0m\u001b[0;34m\u001b[0m\u001b[0;34m\u001b[0m\u001b[0m\n\u001b[1;32m    370\u001b[0m             \u001b[0;34m\"Please ensure you are using a `keras.utils.custom_object_scope` \"\u001b[0m\u001b[0;34m\u001b[0m\u001b[0;34m\u001b[0m\u001b[0m\n",
            "\u001b[0;31mValueError\u001b[0m: Unknown layer: 'KerasLayer'. Please ensure you are using a `keras.utils.custom_object_scope` and that this object is included in the scope. See https://www.tensorflow.org/guide/keras/save_and_serialize#registering_the_custom_object for details."
          ]
        }
      ]
    },
    {
      "cell_type": "code",
      "source": [
        "# new_image = Image.open('/content/image_2023-08-03_14-09-12.png')\n",
        "# new_image = new_image.resize((224, 224))\n",
        "# new_image_array = np.array(new_image)\n",
        "# new_image_array = np.expand_dims(new_image_array, axis=0)\n",
        "# prediction = model.predict(new_image_array)\n",
        "# predicted_class = np.argmax(prediction)"
      ],
      "metadata": {
        "id": "DRevdsvfocMr"
      },
      "id": "DRevdsvfocMr",
      "execution_count": null,
      "outputs": []
    },
    {
      "cell_type": "code",
      "execution_count": null,
      "id": "pFypPdTIIoK3",
      "metadata": {
        "id": "pFypPdTIIoK3"
      },
      "outputs": [],
      "source": [
        "# prediction[0][1]"
      ]
    },
    {
      "cell_type": "code",
      "execution_count": null,
      "id": "nz3lrwyjIq5p",
      "metadata": {
        "id": "nz3lrwyjIq5p"
      },
      "outputs": [],
      "source": [
        "# class_names[predicted_class]"
      ]
    },
    {
      "cell_type": "code",
      "execution_count": null,
      "id": "YZzv53t5Udn2",
      "metadata": {
        "id": "YZzv53t5Udn2"
      },
      "outputs": [],
      "source": [
        "# model.save(\"/content/gdrive/MyDrive/shape_classifier_model3_transfer_learning.h5\")"
      ]
    },
    {
      "cell_type": "code",
      "source": [
        "# model.save(\"/content/gdrive/MyDrive/shape_classifier_model3_transfer_learning.h5\")"
      ],
      "metadata": {
        "id": "gQU2Bwwph4l9"
      },
      "id": "gQU2Bwwph4l9",
      "execution_count": null,
      "outputs": []
    },
    {
      "cell_type": "code",
      "execution_count": null,
      "id": "oyOwajPFUi68",
      "metadata": {
        "id": "oyOwajPFUi68"
      },
      "outputs": [],
      "source": [
        "# model.summary()"
      ]
    },
    {
      "cell_type": "code",
      "source": [
        "\n",
        "\n"
      ],
      "metadata": {
        "id": "1XKbHpZ7cI2T"
      },
      "id": "1XKbHpZ7cI2T",
      "execution_count": null,
      "outputs": []
    },
    {
      "cell_type": "code",
      "source": [],
      "metadata": {
        "id": "pFuYuWMgcLMr"
      },
      "id": "pFuYuWMgcLMr",
      "execution_count": null,
      "outputs": []
    }
  ],
  "metadata": {
    "colab": {
      "provenance": []
    },
    "kernelspec": {
      "display_name": "Python 3 (ipykernel)",
      "language": "python",
      "name": "python3"
    },
    "language_info": {
      "codemirror_mode": {
        "name": "ipython",
        "version": 3
      },
      "file_extension": ".py",
      "mimetype": "text/x-python",
      "name": "python",
      "nbconvert_exporter": "python",
      "pygments_lexer": "ipython3",
      "version": "3.10.4"
    }
  },
  "nbformat": 4,
  "nbformat_minor": 5
}